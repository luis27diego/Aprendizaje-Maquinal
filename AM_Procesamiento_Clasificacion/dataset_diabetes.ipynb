{
 "cells": [
  {
   "cell_type": "markdown",
   "metadata": {},
   "source": [
    "## Dataset Diabetes\n",
    "\n",
    "Este conjunto de datos proviene originalmente del Instituto Nacional de Diabetes y Enfermedades Digestivas y Renales. El objetivo del conjunto de datos es predecir si un paciente tiene o no diabetes, basándose en ciertas medidas diagnósticas incluidas en el conjunto de datos. Se impusieron varias restricciones en la selección de estas instancias de una base de datos más grande. En particular, todos los pacientes aquí son mujeres mayores de 21 años de herencia india Pima."
   ]
  },
  {
   "cell_type": "markdown",
   "metadata": {},
   "source": [
    "### Cargar los datos\n",
    "\n",
    "Abrir el archivo `diabetes.csv` en la carpeta `1_datos`. Analizar su estructura y responder las siguientes preguntas:\n",
    "\n",
    "*   ¿Cuántas instancias o ejemplos tiene el dataset?\n",
    "*   ¿Cómo se llama la variable de salida o target? ¿Qué tipo de datos es?\n",
    "*   ¿Cuántos atributos posee cada instancia o ejemplo?¿Puede detectar datos faltantes o mal registrados en algún atributo?\n",
    "*   ¿Qué tipo de dato tiene cada atributo?"
   ]
  },
  {
   "cell_type": "code",
   "execution_count": 33,
   "metadata": {},
   "outputs": [],
   "source": [
    "import pandas as pd\n",
    "import numpy as np\n",
    "import matplotlib.pyplot as plt"
   ]
  },
  {
   "cell_type": "code",
   "execution_count": 34,
   "metadata": {},
   "outputs": [],
   "source": [
    "# Cargamos los datos\n",
    "df_diabetes = pd.read_csv(\"./1_datos/diabetes.csv\")\n",
    "X = df_diabetes.drop(columns=\"Outcome\")\n",
    "\n",
    "# Eliminar la primera columna que es una réplica del índice\n",
    "df_diabetes.drop(columns=\"Unnamed: 0\", inplace=True)\n",
    "X = df_diabetes.drop(columns=\"Outcome\")\n",
    "Etiquetas = df_diabetes[\"Outcome\"]"
   ]
  },
  {
   "cell_type": "code",
   "execution_count": 42,
   "metadata": {},
   "outputs": [
    {
     "data": {
      "text/html": [
       "<div>\n",
       "<style scoped>\n",
       "    .dataframe tbody tr th:only-of-type {\n",
       "        vertical-align: middle;\n",
       "    }\n",
       "\n",
       "    .dataframe tbody tr th {\n",
       "        vertical-align: top;\n",
       "    }\n",
       "\n",
       "    .dataframe thead th {\n",
       "        text-align: right;\n",
       "    }\n",
       "</style>\n",
       "<table border=\"1\" class=\"dataframe\">\n",
       "  <thead>\n",
       "    <tr style=\"text-align: right;\">\n",
       "      <th></th>\n",
       "      <th>Pregnancies</th>\n",
       "      <th>Glucose</th>\n",
       "      <th>BloodPressure</th>\n",
       "      <th>SkinThickness</th>\n",
       "      <th>Insulin</th>\n",
       "      <th>BMI</th>\n",
       "      <th>DiabetesPedigreeFunction</th>\n",
       "      <th>Age</th>\n",
       "      <th>Outcome</th>\n",
       "    </tr>\n",
       "  </thead>\n",
       "  <tbody>\n",
       "    <tr>\n",
       "      <th>count</th>\n",
       "      <td>768.000000</td>\n",
       "      <td>763.000000</td>\n",
       "      <td>733.000000</td>\n",
       "      <td>541.000000</td>\n",
       "      <td>394.000000</td>\n",
       "      <td>757.000000</td>\n",
       "      <td>768.000000</td>\n",
       "      <td>768.000000</td>\n",
       "      <td>768.000000</td>\n",
       "    </tr>\n",
       "    <tr>\n",
       "      <th>mean</th>\n",
       "      <td>3.845052</td>\n",
       "      <td>121.686763</td>\n",
       "      <td>72.405184</td>\n",
       "      <td>29.153420</td>\n",
       "      <td>155.548223</td>\n",
       "      <td>32.457464</td>\n",
       "      <td>0.471876</td>\n",
       "      <td>33.240885</td>\n",
       "      <td>0.348958</td>\n",
       "    </tr>\n",
       "    <tr>\n",
       "      <th>std</th>\n",
       "      <td>3.369578</td>\n",
       "      <td>30.535641</td>\n",
       "      <td>12.382158</td>\n",
       "      <td>10.476982</td>\n",
       "      <td>118.775855</td>\n",
       "      <td>6.924988</td>\n",
       "      <td>0.331329</td>\n",
       "      <td>11.760232</td>\n",
       "      <td>0.476951</td>\n",
       "    </tr>\n",
       "    <tr>\n",
       "      <th>min</th>\n",
       "      <td>0.000000</td>\n",
       "      <td>44.000000</td>\n",
       "      <td>24.000000</td>\n",
       "      <td>7.000000</td>\n",
       "      <td>14.000000</td>\n",
       "      <td>18.200000</td>\n",
       "      <td>0.078000</td>\n",
       "      <td>21.000000</td>\n",
       "      <td>0.000000</td>\n",
       "    </tr>\n",
       "    <tr>\n",
       "      <th>25%</th>\n",
       "      <td>1.000000</td>\n",
       "      <td>99.000000</td>\n",
       "      <td>64.000000</td>\n",
       "      <td>22.000000</td>\n",
       "      <td>76.250000</td>\n",
       "      <td>27.500000</td>\n",
       "      <td>0.243750</td>\n",
       "      <td>24.000000</td>\n",
       "      <td>0.000000</td>\n",
       "    </tr>\n",
       "    <tr>\n",
       "      <th>50%</th>\n",
       "      <td>3.000000</td>\n",
       "      <td>117.000000</td>\n",
       "      <td>72.000000</td>\n",
       "      <td>29.000000</td>\n",
       "      <td>125.000000</td>\n",
       "      <td>32.300000</td>\n",
       "      <td>0.372500</td>\n",
       "      <td>29.000000</td>\n",
       "      <td>0.000000</td>\n",
       "    </tr>\n",
       "    <tr>\n",
       "      <th>75%</th>\n",
       "      <td>6.000000</td>\n",
       "      <td>141.000000</td>\n",
       "      <td>80.000000</td>\n",
       "      <td>36.000000</td>\n",
       "      <td>190.000000</td>\n",
       "      <td>36.600000</td>\n",
       "      <td>0.626250</td>\n",
       "      <td>41.000000</td>\n",
       "      <td>1.000000</td>\n",
       "    </tr>\n",
       "    <tr>\n",
       "      <th>max</th>\n",
       "      <td>17.000000</td>\n",
       "      <td>199.000000</td>\n",
       "      <td>122.000000</td>\n",
       "      <td>99.000000</td>\n",
       "      <td>846.000000</td>\n",
       "      <td>67.100000</td>\n",
       "      <td>2.420000</td>\n",
       "      <td>81.000000</td>\n",
       "      <td>1.000000</td>\n",
       "    </tr>\n",
       "  </tbody>\n",
       "</table>\n",
       "</div>"
      ],
      "text/plain": [
       "       Pregnancies     Glucose  BloodPressure  SkinThickness     Insulin  \\\n",
       "count   768.000000  763.000000     733.000000     541.000000  394.000000   \n",
       "mean      3.845052  121.686763      72.405184      29.153420  155.548223   \n",
       "std       3.369578   30.535641      12.382158      10.476982  118.775855   \n",
       "min       0.000000   44.000000      24.000000       7.000000   14.000000   \n",
       "25%       1.000000   99.000000      64.000000      22.000000   76.250000   \n",
       "50%       3.000000  117.000000      72.000000      29.000000  125.000000   \n",
       "75%       6.000000  141.000000      80.000000      36.000000  190.000000   \n",
       "max      17.000000  199.000000     122.000000      99.000000  846.000000   \n",
       "\n",
       "              BMI  DiabetesPedigreeFunction         Age     Outcome  \n",
       "count  757.000000                768.000000  768.000000  768.000000  \n",
       "mean    32.457464                  0.471876   33.240885    0.348958  \n",
       "std      6.924988                  0.331329   11.760232    0.476951  \n",
       "min     18.200000                  0.078000   21.000000    0.000000  \n",
       "25%     27.500000                  0.243750   24.000000    0.000000  \n",
       "50%     32.300000                  0.372500   29.000000    0.000000  \n",
       "75%     36.600000                  0.626250   41.000000    1.000000  \n",
       "max     67.100000                  2.420000   81.000000    1.000000  "
      ]
     },
     "execution_count": 42,
     "metadata": {},
     "output_type": "execute_result"
    }
   ],
   "source": [
    "df_diabetes.describe()"
   ]
  },
  {
   "cell_type": "code",
   "execution_count": 35,
   "metadata": {},
   "outputs": [
    {
     "name": "stdout",
     "output_type": "stream",
     "text": [
      "Número de instancias: 768\n",
      "Variable de salida: Outcome, Tipo de dato: int64\n",
      "Número de atributos por instancia: 8\n",
      "Datos faltantes por atributo:\n",
      "Pregnancies                  0\n",
      "Glucose                      0\n",
      "BloodPressure                1\n",
      "SkinThickness               12\n",
      "Insulin                      5\n",
      "BMI                          1\n",
      "DiabetesPedigreeFunction     0\n",
      "Age                          0\n",
      "Outcome                      0\n",
      "dtype: int64\n",
      "Tipo de dato de cada atributo:\n",
      "Pregnancies                   int64\n",
      "Glucose                       int64\n",
      "BloodPressure               float64\n",
      "SkinThickness               float64\n",
      "Insulin                     float64\n",
      "BMI                         float64\n",
      "DiabetesPedigreeFunction    float64\n",
      "Age                           int64\n",
      "Outcome                       int64\n",
      "dtype: object\n"
     ]
    }
   ],
   "source": [
    "# Número de instancias o ejemplos\n",
    "num_instancias = df_diabetes.shape[0]\n",
    "\n",
    "# Nombre de la variable de salida o target y su tipo de dato\n",
    "variable_salida = 'Outcome'\n",
    "tipo_dato_salida = df_diabetes[variable_salida].dtype\n",
    "\n",
    "# Número de atributos por instancia\n",
    "num_atributos = df_diabetes.shape[1] - 1  # Excluyendo la variable de salida\n",
    "\n",
    "# Detección de datos faltantes o mal registrados\n",
    "datos_faltantes = df_diabetes.isnull().sum()\n",
    "\n",
    "# Tipo de dato de cada atributo\n",
    "tipos_datos = df_diabetes.dtypes\n",
    "\n",
    "# Imprimir resultados\n",
    "print(f\"Número de instancias: {num_instancias}\")\n",
    "print(f\"Variable de salida: {variable_salida}, Tipo de dato: {tipo_dato_salida}\")\n",
    "print(f\"Número de atributos por instancia: {num_atributos}\")\n",
    "print(\"Datos faltantes por atributo:\")\n",
    "print(datos_faltantes)\n",
    "print(\"Tipo de dato de cada atributo:\")\n",
    "print(tipos_datos)"
   ]
  },
  {
   "cell_type": "markdown",
   "metadata": {},
   "source": [
    "### ⚠️\n",
    "Antes de realizar cualquier procesamiento, no olvide de separar los datos en entrenamiento y prueba. Divida el conjunto de datos en entrenamiento y prueba utilizando train_test_split (con una proporción de 80% entrenamiento y 20% prueba) use 42 como semilla."
   ]
  },
  {
   "cell_type": "code",
   "execution_count": 36,
   "metadata": {},
   "outputs": [],
   "source": [
    "from sklearn.model_selection import train_test_split\n",
    "\n",
    "# division de los datos en test y prueba mas las etiquetas\n",
    "Predictoras_train, Predictoras_test, Etiquetas_train, Etiquetas_test = train_test_split(X, Etiquetas, test_size=0.2, shuffle=True, random_state=42, stratify=Etiquetas)"
   ]
  },
  {
   "cell_type": "markdown",
   "metadata": {},
   "source": [
    "### Detección de valores atípicos y tratamiento de datos faltantes\n",
    "\n",
    "- Analice con cuidado el rango de valores de los atributos. **¿Nota valores atípicos a simple vista en algún/algunos de los atributos?**\n",
    "\n",
    "    -  Ejemplo: Un valor de insulina igual a 0 puede considerarse mal registrado o faltante.\n",
    "\n",
    "- Los valores atípicos que detecte pueden considerarse datos faltantes. Utilice el método [replace](https://pandas.pydata.org/docs/reference/api/pandas.DataFrame.replace.html) de pandas para reemplazarlos por np.NaN."
   ]
  },
  {
   "cell_type": "code",
   "execution_count": 37,
   "metadata": {},
   "outputs": [],
   "source": [
    "# Identificar valores atípicos y reemplazarlos por np.NaN\n",
    "valores_atipicos = {\n",
    "    'Glucose': 0,\n",
    "    'BloodPressure': 0,\n",
    "    'SkinThickness': 0,\n",
    "    'Insulin': 0,\n",
    "    'BMI': 0\n",
    "}\n",
    "\n",
    "df_diabetes.replace(valores_atipicos, np.NaN, inplace=True)"
   ]
  },
  {
   "cell_type": "markdown",
   "metadata": {},
   "source": [
    "Después de realizar el reemplazo, ¿Cuántos datos faltantes presenta cada atributo?"
   ]
  },
  {
   "cell_type": "code",
   "execution_count": 38,
   "metadata": {},
   "outputs": [
    {
     "name": "stdout",
     "output_type": "stream",
     "text": [
      "Datos faltantes por atributo después del reemplazo de valores atípicos:\n",
      "Pregnancies                   0\n",
      "Glucose                       5\n",
      "BloodPressure                35\n",
      "SkinThickness               227\n",
      "Insulin                     374\n",
      "BMI                          11\n",
      "DiabetesPedigreeFunction      0\n",
      "Age                           0\n",
      "Outcome                       0\n",
      "dtype: int64\n"
     ]
    }
   ],
   "source": [
    "# Verificar los datos faltantes después del reemplazo\n",
    "datos_faltantes_actualizados = df_diabetes.isnull().sum()\n",
    "print(\"Datos faltantes por atributo después del reemplazo de valores atípicos:\")\n",
    "print(datos_faltantes_actualizados)"
   ]
  },
  {
   "cell_type": "markdown",
   "metadata": {},
   "source": [
    "### Aclaración sobre la imputación de datos faltantes\n",
    "Algo a tener en cuenta al momento de imputar datos faltantes es que los atributos pueden tener distribuciones diferentes según la salida o target (con diabetes/sin diabetes). Por ejemplo, una persona sana tendrá un valor de insulina en un rango distinto a una persona con diabetes.\n",
    "\n",
    "- Implemente un transformer para imputar datos faltantes de forma condicional, dependiendo de la clase (diabetes/no diabetes). Para hacerlo, utilice la media o mediana correspondiente a cada clase.\n",
    "- Utilice un Pipeline de scikit-learn para realizar la preparación completa de los datos, que incluya la imputación."
   ]
  },
  {
   "cell_type": "code",
   "execution_count": 41,
   "metadata": {},
   "outputs": [
    {
     "name": "stderr",
     "output_type": "stream",
     "text": [
      "C:\\Users\\yeyer\\AppData\\Local\\Temp\\ipykernel_27220\\3452857813.py:29: FutureWarning: Setting an item of incompatible dtype is deprecated and will raise an error in a future version of pandas. Value '4.865671641791045' has dtype incompatible with int64, please explicitly cast to a compatible dtype first.\n",
      "  X_transformed.loc[X_transformed[column].isnull() & (Etiquetas == cls), column] = value\n",
      "C:\\Users\\yeyer\\AppData\\Local\\Temp\\ipykernel_27220\\3452857813.py:29: FutureWarning: Setting an item of incompatible dtype is deprecated and will raise an error in a future version of pandas. Value '37.06716417910448' has dtype incompatible with int64, please explicitly cast to a compatible dtype first.\n",
      "  X_transformed.loc[X_transformed[column].isnull() & (Etiquetas == cls), column] = value\n",
      "C:\\Users\\yeyer\\AppData\\Local\\Temp\\ipykernel_27220\\3452857813.py:29: FutureWarning: Setting an item of incompatible dtype is deprecated and will raise an error in a future version of pandas. Value '4.865671641791045' has dtype incompatible with int64, please explicitly cast to a compatible dtype first.\n",
      "  X_transformed.loc[X_transformed[column].isnull() & (Etiquetas == cls), column] = value\n",
      "C:\\Users\\yeyer\\AppData\\Local\\Temp\\ipykernel_27220\\3452857813.py:29: FutureWarning: Setting an item of incompatible dtype is deprecated and will raise an error in a future version of pandas. Value '37.06716417910448' has dtype incompatible with int64, please explicitly cast to a compatible dtype first.\n",
      "  X_transformed.loc[X_transformed[column].isnull() & (Etiquetas == cls), column] = value\n"
     ]
    }
   ],
   "source": [
    "from sklearn.base import BaseEstimator, TransformerMixin\n",
    "from sklearn.pipeline import Pipeline\n",
    "\n",
    "class ConditionalImputer(BaseEstimator, TransformerMixin):\n",
    "    def __init__(self, strategy='mean'):\n",
    "        self.strategy = strategy\n",
    "        self.fill_values_ = {}\n",
    "\n",
    "    def fit(self, X, y=None):\n",
    "        if y is None:\n",
    "            raise ValueError(\"y cannot be None\")\n",
    "\n",
    "        self.fill_values_ = {}\n",
    "        for column in X.columns:\n",
    "            self.fill_values_[column] = {}\n",
    "            for cls in y.unique():\n",
    "                if self.strategy == 'mean':\n",
    "                    self.fill_values_[column][cls] = X.loc[y == cls, column].mean()\n",
    "                elif self.strategy == 'median':\n",
    "                    self.fill_values_[column][cls] = X.loc[y == cls, column].median()\n",
    "                else:\n",
    "                    raise ValueError(\"Strategy not supported\")\n",
    "        return self\n",
    "\n",
    "    def transform(self, X):\n",
    "        X_transformed = X.copy()\n",
    "        for column in X.columns:\n",
    "            for cls, value in self.fill_values_[column].items():\n",
    "                X_transformed.loc[X_transformed[column].isnull() & (Etiquetas == cls), column] = value\n",
    "        return X_transformed\n",
    "\n",
    "# Crear el pipeline\n",
    "pipeline = Pipeline(steps=[\n",
    "    ('conditional_imputer', ConditionalImputer(strategy='mean'))\n",
    "])\n",
    "\n",
    "# Ajustar el pipeline a los datos de entrenamiento\n",
    "pipeline.fit(df_diabetes, Etiquetas)\n",
    "\n",
    "# Transformar los datos de entrenamiento y prueba\n",
    "Predictoras_train_imputed = pipeline.transform(df_diabetes)\n",
    "Predictoras_test_imputed = pipeline.transform(df_diabetes)"
   ]
  },
  {
   "cell_type": "code",
   "execution_count": null,
   "metadata": {},
   "outputs": [],
   "source": []
  },
  {
   "cell_type": "code",
   "execution_count": null,
   "metadata": {},
   "outputs": [],
   "source": []
  },
  {
   "cell_type": "markdown",
   "metadata": {},
   "source": [
    "\n",
    "- Entrene al menos tres clasificadores distintos.\n",
    "- Compare el desempeño de los modelos utilizando la métrica F1-score, ya que el dataset tiene un desbalance de clases (más casos sin diabetes que con diabetes). Puede evaluar otras métricas si lo desea. [sklearn metrics](https://scikit-learn.org/stable/modules/model_evaluation.html)"
   ]
  },
  {
   "cell_type": "code",
   "execution_count": null,
   "metadata": {},
   "outputs": [],
   "source": []
  },
  {
   "cell_type": "code",
   "execution_count": null,
   "metadata": {},
   "outputs": [],
   "source": []
  }
 ],
 "metadata": {
  "kernelspec": {
   "display_name": "Python 3",
   "language": "python",
   "name": "python3"
  },
  "language_info": {
   "codemirror_mode": {
    "name": "ipython",
    "version": 3
   },
   "file_extension": ".py",
   "mimetype": "text/x-python",
   "name": "python",
   "nbconvert_exporter": "python",
   "pygments_lexer": "ipython3",
   "version": "3.11.5"
  }
 },
 "nbformat": 4,
 "nbformat_minor": 2
}
